{
  "nbformat": 4,
  "nbformat_minor": 0,
  "metadata": {
    "colab": {
      "name": "download-kaggle-data.ipynb",
      "version": "0.3.2",
      "provenance": [],
      "collapsed_sections": [],
      "include_colab_link": true
    },
    "kernelspec": {
      "name": "python3",
      "display_name": "Python 3"
    }
  },
  "cells": [
    {
      "cell_type": "markdown",
      "metadata": {
        "id": "view-in-github",
        "colab_type": "text"
      },
      "source": [
        "<a href=\"https://colab.research.google.com/github/shebogholo/kaggle/blob/master/download-kaggle-data.ipynb\" target=\"_parent\"><img src=\"https://colab.research.google.com/assets/colab-badge.svg\" alt=\"Open In Colab\"/></a>"
      ]
    },
    {
      "cell_type": "code",
      "metadata": {
        "id": "iGMONyI49UFz",
        "colab_type": "code",
        "colab": {}
      },
      "source": [
        "# from google.colab import files\n",
        "# files.upload()"
      ],
      "execution_count": 0,
      "outputs": []
    },
    {
      "cell_type": "markdown",
      "metadata": {
        "id": "yxaYb3f-91jk",
        "colab_type": "text"
      },
      "source": [
        "## Create ~/.kaggle directory"
      ]
    },
    {
      "cell_type": "code",
      "metadata": {
        "id": "c8vxDRxg9a2C",
        "colab_type": "code",
        "colab": {}
      },
      "source": [
        "!mkdir -p ~/.kaggle"
      ],
      "execution_count": 0,
      "outputs": []
    },
    {
      "cell_type": "markdown",
      "metadata": {
        "id": "5922ttlP-Jyw",
        "colab_type": "text"
      },
      "source": [
        "## Move the uploaded json file to ~/.kaggle\n",
        "Kaggle API client expect the json file to be in ~/.kaggle"
      ]
    },
    {
      "cell_type": "code",
      "metadata": {
        "id": "zbgVeG-L9yit",
        "colab_type": "code",
        "colab": {}
      },
      "source": [
        "!cp kaggle.json ~/.kaggle/"
      ],
      "execution_count": 0,
      "outputs": []
    },
    {
      "cell_type": "markdown",
      "metadata": {
        "id": "9PwM7cuJ-voj",
        "colab_type": "text"
      },
      "source": [
        "## Change file permission to avaoid kaggle API warnings "
      ]
    },
    {
      "cell_type": "code",
      "metadata": {
        "id": "15NKRpVB-0-n",
        "colab_type": "code",
        "colab": {}
      },
      "source": [
        "!chmod 600 ~/.kaggle/kaggle.json"
      ],
      "execution_count": 0,
      "outputs": []
    },
    {
      "cell_type": "markdown",
      "metadata": {
        "id": "sop13aQg-jXG",
        "colab_type": "text"
      },
      "source": [
        "## Import kaggle API client"
      ]
    },
    {
      "cell_type": "code",
      "metadata": {
        "id": "jhpPsh-O-RLA",
        "colab_type": "code",
        "colab": {}
      },
      "source": [
        "import kaggle"
      ],
      "execution_count": 0,
      "outputs": []
    },
    {
      "cell_type": "markdown",
      "metadata": {
        "id": "TgfZeprC_CCC",
        "colab_type": "text"
      },
      "source": [
        "## View available dataset on kaggle platform"
      ]
    },
    {
      "cell_type": "code",
      "metadata": {
        "id": "Pc-EeIw2-nm3",
        "colab_type": "code",
        "colab": {
          "base_uri": "https://localhost:8080/",
          "height": 437
        },
        "outputId": "ac93dabe-051b-495d-8354-122254cf289a"
      },
      "source": [
        "!kaggle datasets list"
      ],
      "execution_count": 7,
      "outputs": [
        {
          "output_type": "stream",
          "text": [
            "ref                                                         title                                                size  lastUpdated          downloadCount  \n",
            "----------------------------------------------------------  --------------------------------------------------  -----  -------------------  -------------  \n",
            "AnalyzeBoston/crimes-in-boston                              Crimes in Boston                                     10MB  2018-09-04 17:56:03           9760  \n",
            "matheusfreitag/gas-prices-in-brazil                         Gas Prices in Brazil                                  3MB  2019-07-12 16:23:52           5346  \n",
            "jealousleopard/goodreadsbooks                               Goodreads-books                                     632KB  2019-06-14 16:35:05           9035  \n",
            "wkirgsn/electric-motor-temperature                          Electric Motor Temperature                           47MB  2019-06-19 11:12:41           3405  \n",
            "jolasa/waves-measuring-buoys-data-mooloolaba                Waves Measuring Buoys Data                          599KB  2019-07-07 16:59:44           1020  \n",
            "sudalairajkumar/chennai-water-management                    Chennai Water Management                             75KB  2019-06-19 03:42:44           6244  \n",
            "doit-intl/autotel-shared-car-locations                      Shared Cars Locations                                78MB  2019-01-10 13:06:00           1047  \n",
            "eliasdabbas/search-engine-results-flights-tickets-keywords  Search Engine Results - Flights & Tickets Keywords   24MB  2019-08-15 13:12:18           2005  \n",
            "r3w0p4/recorded-crime-data-at-police-force-area-level       Recorded Crime Data at the Police Force Area Level  300KB  2019-06-21 15:16:46           1815  \n",
            "r3w0p4/bournemouth-venues                                   Venues in Bournemouth                                 3KB  2019-07-08 14:26:48            655  \n",
            "Madgrades/uw-madison-courses                                UW Madison Courses and Grades 2006-2017              90MB  2018-05-15 18:58:25           1265  \n",
            "datafiniti/womens-shoes-prices                              Women's Shoe Prices                                  12MB  2019-06-24 22:50:14          10611  \n",
            "datafiniti/pizza-restaurants-and-the-pizza-they-sell        Pizza Restaurants and the Pizza They Sell           850KB  2019-05-30 00:21:21           5271  \n",
            "citylines/city-lines                                        Transit systems of world                              3MB  2019-03-25 16:53:05           1883  \n",
            "citizen-ds-ghana/health-facilities-gh                       Ghana Health Facilities                              84KB  2018-09-03 01:19:24            864  \n",
            "inIT-OWL/vega-shrinkwrapper-runtofailure-data               Vega shrink-wrapper component degradation           408KB  2018-11-12 13:03:43            265  \n",
            "university-of-edinburgh/peace-agreements-dataset            Peace Agreements Dataset                              1MB  2018-03-05 16:39:50            622  \n",
            "lakshyaag/india-trade-data                                  India - Trade Data                                    1MB  2019-08-16 16:13:58            201  \n",
            "datasnaek/youtube-new                                       Trending YouTube Video Statistics                   199MB  2019-06-03 00:56:47          46008  \n",
            "pavanraj159/predicting-a-pulsar-star                        Predicting a Pulsar Star                            771KB  2018-05-09 14:25:54           5260  \n"
          ],
          "name": "stdout"
        }
      ]
    },
    {
      "cell_type": "markdown",
      "metadata": {
        "id": "Ae2fIK5QE_FE",
        "colab_type": "text"
      },
      "source": [
        "## List of competitions"
      ]
    },
    {
      "cell_type": "code",
      "metadata": {
        "id": "88ivm7PEDH_k",
        "colab_type": "code",
        "colab": {
          "base_uri": "https://localhost:8080/",
          "height": 417
        },
        "outputId": "780e8c48-e27d-4227-8c59-6133490d01fe"
      },
      "source": [
        "!kaggle competitions list"
      ],
      "execution_count": 11,
      "outputs": [
        {
          "output_type": "stream",
          "text": [
            "ref                                            deadline             category            reward  teamCount  userHasEntered  \n",
            "---------------------------------------------  -------------------  ---------------  ---------  ---------  --------------  \n",
            "digit-recognizer                               2030-01-01 00:00:00  Getting Started  Knowledge       2870            True  \n",
            "titanic                                        2030-01-01 00:00:00  Getting Started  Knowledge      11485           False  \n",
            "house-prices-advanced-regression-techniques    2030-01-01 00:00:00  Getting Started  Knowledge       4395            True  \n",
            "imagenet-object-localization-challenge         2029-12-31 07:00:00  Research         Knowledge         49           False  \n",
            "competitive-data-science-predict-future-sales  2019-12-31 23:59:00  Playground           Kudos       3910           False  \n",
            "understanding_cloud_organization               2019-11-18 23:59:00  Research           $10,000         40           False  \n",
            "severstal-steel-defect-detection               2019-10-24 23:59:00  Featured          $120,000        656           False  \n",
            "kuzushiji-recognition                          2019-10-14 23:59:00  Playground         $15,000        117           False  \n",
            "ieee-fraud-detection                           2019-10-01 23:59:00  Research           $20,000       3064           False  \n",
            "open-images-2019-object-detection              2019-10-01 23:59:00  Research           $25,000        424           False  \n",
            "open-images-2019-visual-relationship           2019-10-01 23:59:00  Research           $25,000        134           False  \n",
            "open-images-2019-instance-segmentation         2019-10-01 23:59:00  Research           $25,000         75           False  \n",
            "recursion-cellular-image-classification        2019-09-26 23:59:00  Research           $13,000        650           False  \n",
            "youtube8m-2019                                 2019-09-13 23:59:00  Research           $25,000        198           False  \n",
            "aptos2019-blindness-detection                  2019-09-05 23:59:00  Featured           $50,000       2575           False  \n",
            "ciphertext-challenge-iii                       2019-09-05 23:59:00  Playground            Swag         66           False  \n",
            "siim-acr-pneumothorax-segmentation             2019-09-04 23:59:00  Featured           $30,000       1419           False  \n",
            "generative-dog-images                          2019-08-31 23:59:00  Research           $10,000        927           False  \n",
            "champs-scalar-coupling                         2019-08-28 23:59:00  Featured           $30,000       2585           False  \n",
            "recognizing-faces-in-the-wild                  2019-08-08 23:59:00  Playground       Knowledge        528           False  \n"
          ],
          "name": "stdout"
        }
      ]
    },
    {
      "cell_type": "markdown",
      "metadata": {
        "id": "1GYpq1iO_SUo",
        "colab_type": "text"
      },
      "source": [
        "## Download dataset"
      ]
    },
    {
      "cell_type": "code",
      "metadata": {
        "id": "Kl0m0DkU--1C",
        "colab_type": "code",
        "colab": {
          "base_uri": "https://localhost:8080/",
          "height": 72
        },
        "outputId": "f53e2654-5355-4201-d810-c6bc1c5268f4"
      },
      "source": [
        "!kaggle datasets download -d AnalyzeBoston/crimes-in-boston"
      ],
      "execution_count": 8,
      "outputs": [
        {
          "output_type": "stream",
          "text": [
            "Downloading crimes-in-boston.zip to /content\n",
            "\r  0% 0.00/10.4M [00:00<?, ?B/s]\r 58% 6.00M/10.4M [00:00<00:00, 60.8MB/s]\n",
            "\r100% 10.4M/10.4M [00:00<00:00, 65.7MB/s]\n"
          ],
          "name": "stdout"
        }
      ]
    },
    {
      "cell_type": "code",
      "metadata": {
        "id": "bKdyVoy__z-O",
        "colab_type": "code",
        "colab": {
          "base_uri": "https://localhost:8080/",
          "height": 72
        },
        "outputId": "157a0cd5-fce9-47f2-a018-9bd37a2966f0"
      },
      "source": [
        "!unzip crimes-in-boston.zip"
      ],
      "execution_count": 9,
      "outputs": [
        {
          "output_type": "stream",
          "text": [
            "Archive:  crimes-in-boston.zip\n",
            "  inflating: offense_codes.csv       \n",
            "  inflating: crime.csv               \n"
          ],
          "name": "stdout"
        }
      ]
    },
    {
      "cell_type": "markdown",
      "metadata": {
        "id": "WJhZeEky_tlP",
        "colab_type": "text"
      },
      "source": [
        "## Download competition data"
      ]
    },
    {
      "cell_type": "code",
      "metadata": {
        "id": "IjnNOIpm_fQU",
        "colab_type": "code",
        "colab": {
          "base_uri": "https://localhost:8080/",
          "height": 181
        },
        "outputId": "72f3c6b8-a689-4efc-d69d-1adfa73c8a2e"
      },
      "source": [
        "!kaggle competitions download -c digit-recognizer"
      ],
      "execution_count": 10,
      "outputs": [
        {
          "output_type": "stream",
          "text": [
            "Downloading train.csv to /content\n",
            "\r  0% 0.00/73.2M [00:00<?, ?B/s]\r 16% 12.0M/73.2M [00:00<00:00, 123MB/s]\r 46% 34.0M/73.2M [00:00<00:00, 143MB/s]\r 64% 47.0M/73.2M [00:00<00:00, 140MB/s]\r 93% 68.0M/73.2M [00:00<00:00, 153MB/s]\n",
            "\r100% 73.2M/73.2M [00:00<00:00, 163MB/s]\n",
            "Downloading test.csv to /content\n",
            " 96% 47.0M/48.8M [00:01<00:00, 16.5MB/s]\n",
            "100% 48.8M/48.8M [00:01<00:00, 37.9MB/s]\n",
            "Downloading sample_submission.csv to /content\n",
            "  0% 0.00/235k [00:00<?, ?B/s]\n",
            "100% 235k/235k [00:00<00:00, 74.6MB/s]\n"
          ],
          "name": "stdout"
        }
      ]
    },
    {
      "cell_type": "code",
      "metadata": {
        "id": "7sOBnjYZAJXC",
        "colab_type": "code",
        "colab": {}
      },
      "source": [
        ""
      ],
      "execution_count": 0,
      "outputs": []
    }
  ]
}